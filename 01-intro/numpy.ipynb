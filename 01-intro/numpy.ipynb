{
 "cells": [
  {
   "cell_type": "code",
   "execution_count": 2,
   "id": "87a42cbb-e6d6-462a-99d9-595fc7ce5efe",
   "metadata": {},
   "outputs": [],
   "source": [
    "import numpy as np"
   ]
  },
  {
   "cell_type": "code",
   "execution_count": 3,
   "id": "284b865c-8269-4f44-9c16-59527735e359",
   "metadata": {},
   "outputs": [
    {
     "data": {
      "text/plain": [
       "<module 'numpy' from '/home/codespace/.local/lib/python3.12/site-packages/numpy/__init__.py'>"
      ]
     },
     "execution_count": 3,
     "metadata": {},
     "output_type": "execute_result"
    }
   ],
   "source": [
    "np"
   ]
  },
  {
   "cell_type": "code",
   "execution_count": 4,
   "id": "1a58edec-b984-404a-833b-db5e6c89af20",
   "metadata": {},
   "outputs": [
    {
     "data": {
      "text/plain": [
       "array([0., 0., 0., 0., 0.])"
      ]
     },
     "execution_count": 4,
     "metadata": {},
     "output_type": "execute_result"
    }
   ],
   "source": [
    "np.zeros(5)"
   ]
  },
  {
   "cell_type": "code",
   "execution_count": 5,
   "id": "afe15a51-7f3e-492e-a4ef-4c8596c01e0f",
   "metadata": {},
   "outputs": [
    {
     "data": {
      "text/plain": [
       "array([1., 1., 1., 1., 1.])"
      ]
     },
     "execution_count": 5,
     "metadata": {},
     "output_type": "execute_result"
    }
   ],
   "source": [
    "np.ones(5)"
   ]
  },
  {
   "cell_type": "code",
   "execution_count": 6,
   "id": "119b2738-b522-406e-99c6-696ce6ce13ed",
   "metadata": {},
   "outputs": [
    {
     "data": {
      "text/plain": [
       "array([1.2, 1.2, 1.2, 1.2, 1.2, 1.2, 1.2, 1.2, 1.2, 1.2])"
      ]
     },
     "execution_count": 6,
     "metadata": {},
     "output_type": "execute_result"
    }
   ],
   "source": [
    "np.full(10, 1.2)"
   ]
  },
  {
   "cell_type": "code",
   "execution_count": 7,
   "id": "eb17177f-81f2-41e4-92b6-c36a811326cf",
   "metadata": {},
   "outputs": [
    {
     "data": {
      "text/plain": [
       "array([1, 3, 5, 7, 9])"
      ]
     },
     "execution_count": 7,
     "metadata": {},
     "output_type": "execute_result"
    }
   ],
   "source": [
    "a = np.array([1,3,5,7,9])\n",
    "a"
   ]
  },
  {
   "cell_type": "code",
   "execution_count": 8,
   "id": "e8bcbddb-a702-4ac1-9c74-bd2f7b921748",
   "metadata": {},
   "outputs": [
    {
     "data": {
      "text/plain": [
       "array([ 1,  3, 10,  7,  9])"
      ]
     },
     "execution_count": 8,
     "metadata": {},
     "output_type": "execute_result"
    }
   ],
   "source": [
    "a[2] = 10\n",
    "a"
   ]
  },
  {
   "cell_type": "code",
   "execution_count": 9,
   "id": "f48bd838-a0c2-432a-bf0a-fa9dd9852450",
   "metadata": {},
   "outputs": [
    {
     "data": {
      "text/plain": [
       "array([3, 4, 5, 6, 7, 8, 9])"
      ]
     },
     "execution_count": 9,
     "metadata": {},
     "output_type": "execute_result"
    }
   ],
   "source": [
    "np.arange(3, 10)"
   ]
  },
  {
   "cell_type": "code",
   "execution_count": 10,
   "id": "c020bd33-b8c0-4624-86b7-99578f372dfd",
   "metadata": {},
   "outputs": [
    {
     "data": {
      "text/plain": [
       "array([   0.,  100.,  200.,  300.,  400.,  500.,  600.,  700.,  800.,\n",
       "        900., 1000.])"
      ]
     },
     "execution_count": 10,
     "metadata": {},
     "output_type": "execute_result"
    }
   ],
   "source": [
    "np.linspace(0,1000, 11)"
   ]
  },
  {
   "cell_type": "code",
   "execution_count": 11,
   "id": "45237023-8ade-4415-abca-d79e1478f8fe",
   "metadata": {},
   "outputs": [
    {
     "data": {
      "text/plain": [
       "array([[0., 0.],\n",
       "       [0., 0.],\n",
       "       [0., 0.],\n",
       "       [0., 0.],\n",
       "       [0., 0.]])"
      ]
     },
     "execution_count": 11,
     "metadata": {},
     "output_type": "execute_result"
    }
   ],
   "source": [
    "np.zeros((5,2))"
   ]
  },
  {
   "cell_type": "code",
   "execution_count": 12,
   "id": "e4dc70ce-f331-498a-971e-bd93c8345c49",
   "metadata": {},
   "outputs": [],
   "source": [
    "n = np.array([\n",
    "    [1, 2, 3],\n",
    "    [4, 5, 6],\n",
    "    [7, 8, 9]\n",
    "])"
   ]
  },
  {
   "cell_type": "code",
   "execution_count": 13,
   "id": "869531c3-aa48-4e25-a7dd-15324fe715e8",
   "metadata": {},
   "outputs": [
    {
     "data": {
      "text/plain": [
       "np.int64(6)"
      ]
     },
     "execution_count": 13,
     "metadata": {},
     "output_type": "execute_result"
    }
   ],
   "source": [
    "n[1][2]"
   ]
  },
  {
   "cell_type": "code",
   "execution_count": 14,
   "id": "2c773ed4-c975-42b6-9ab4-49e55f50c3d6",
   "metadata": {},
   "outputs": [
    {
     "data": {
      "text/plain": [
       "array([4, 5, 6])"
      ]
     },
     "execution_count": 14,
     "metadata": {},
     "output_type": "execute_result"
    }
   ],
   "source": [
    "n[1]"
   ]
  },
  {
   "cell_type": "code",
   "execution_count": 15,
   "id": "e3f6c96f-2f61-4984-b23a-39ef3e6a9542",
   "metadata": {},
   "outputs": [
    {
     "data": {
      "text/plain": [
       "array([1, 4, 7])"
      ]
     },
     "execution_count": 15,
     "metadata": {},
     "output_type": "execute_result"
    }
   ],
   "source": [
    "n[:, 0]"
   ]
  },
  {
   "cell_type": "code",
   "execution_count": 16,
   "id": "b6355abc-3e33-4b19-a30c-6f16cbc9f436",
   "metadata": {},
   "outputs": [
    {
     "data": {
      "text/plain": [
       "array([[ 0.77397883, -1.50450231],\n",
       "       [-0.38394405,  0.35345161],\n",
       "       [ 0.32073382, -1.47650919],\n",
       "       [ 0.65308767,  0.87648569],\n",
       "       [ 0.47758462, -0.08287741]])"
      ]
     },
     "execution_count": 16,
     "metadata": {},
     "output_type": "execute_result"
    }
   ],
   "source": [
    "np.random.randn(5,2)"
   ]
  },
  {
   "cell_type": "code",
   "execution_count": 17,
   "id": "63c8e98c-7974-4fef-bb8e-0b5a02bd969f",
   "metadata": {},
   "outputs": [
    {
     "data": {
      "text/plain": [
       "array([[84, 21],\n",
       "       [95, 33],\n",
       "       [19, 25],\n",
       "       [32, 72],\n",
       "       [70, 91],\n",
       "       [27, 18]])"
      ]
     },
     "execution_count": 17,
     "metadata": {},
     "output_type": "execute_result"
    }
   ],
   "source": [
    "np.random.randint(low=0, high=100, size=(6,2))"
   ]
  },
  {
   "cell_type": "code",
   "execution_count": 18,
   "id": "afa5e314-7e4d-4604-809c-8eb36759ee9f",
   "metadata": {},
   "outputs": [
    {
     "data": {
      "text/plain": [
       "(array([1, 3, 1, 3, 1]), array([1, 2, 3, 4, 5]))"
      ]
     },
     "execution_count": 18,
     "metadata": {},
     "output_type": "execute_result"
    }
   ],
   "source": [
    "a = np.arange(5)\n",
    "a = a + 1\n",
    "a\n",
    "b = np.random.randint(low=1, high=5, size=(5))\n",
    "b, a"
   ]
  },
  {
   "cell_type": "markdown",
   "id": "5899dae4-94ee-4d7b-9beb-d5913e7554e7",
   "metadata": {},
   "source": []
  },
  {
   "cell_type": "code",
   "execution_count": 19,
   "id": "7382a1ab-2460-44db-b25f-d3f052563793",
   "metadata": {},
   "outputs": [
    {
     "data": {
      "text/plain": [
       "array([3, 4, 5])"
      ]
     },
     "execution_count": 19,
     "metadata": {},
     "output_type": "execute_result"
    }
   ],
   "source": [
    "a[a > b]"
   ]
  },
  {
   "cell_type": "code",
   "execution_count": 20,
   "id": "6e405155-250a-4bf4-964e-7502dfb10c82",
   "metadata": {},
   "outputs": [
    {
     "data": {
      "text/plain": [
       "array([ 10.,  20.,  30.,  40.,  50.,  60.,  70.,  80.,  90., 100.])"
      ]
     },
     "execution_count": 20,
     "metadata": {},
     "output_type": "execute_result"
    }
   ],
   "source": [
    "np.linspace(10, 100, 10)"
   ]
  },
  {
   "cell_type": "code",
   "execution_count": 21,
   "id": "cb2e0a44-9c24-4683-9e10-96ec0a4a4023",
   "metadata": {},
   "outputs": [
    {
     "data": {
      "text/plain": [
       "array([0., 0., 0., 0., 0., 0., 0., 0., 0., 0.])"
      ]
     },
     "execution_count": 21,
     "metadata": {},
     "output_type": "execute_result"
    }
   ],
   "source": [
    "np.zeros(10)"
   ]
  },
  {
   "cell_type": "code",
   "execution_count": 22,
   "id": "8894c2f7-c4a2-40e2-b21f-e127985bc947",
   "metadata": {},
   "outputs": [],
   "source": [
    "df = np.zeros(10)"
   ]
  },
  {
   "cell_type": "code",
   "execution_count": 23,
   "id": "44b758e6-3976-4791-ad6d-99a0a4de8751",
   "metadata": {},
   "outputs": [
    {
     "data": {
      "text/plain": [
       "dtype('float64')"
      ]
     },
     "execution_count": 23,
     "metadata": {},
     "output_type": "execute_result"
    }
   ],
   "source": [
    "df.dtype"
   ]
  },
  {
   "cell_type": "code",
   "execution_count": 24,
   "id": "dc91d447-5039-44ec-ad39-8d7f5ce751fa",
   "metadata": {},
   "outputs": [
    {
     "data": {
      "text/plain": [
       "array([1, 2, 2, 5, 1, 3, 1, 5, 5, 0])"
      ]
     },
     "execution_count": 24,
     "metadata": {},
     "output_type": "execute_result"
    }
   ],
   "source": [
    "np.random.randint(low=0, high=6, size=(10))"
   ]
  },
  {
   "cell_type": "code",
   "execution_count": 25,
   "id": "783f5e6a-5a09-4a79-9464-e8ddda0f986a",
   "metadata": {},
   "outputs": [
    {
     "data": {
      "text/plain": [
       "array([6.36852842, 5.21222931, 3.93719688, 4.39884126, 5.49973307,\n",
       "       3.87280966, 4.63419594, 6.63598851, 7.39852808, 7.55144849])"
      ]
     },
     "execution_count": 25,
     "metadata": {},
     "output_type": "execute_result"
    }
   ],
   "source": [
    "np.random.randn(10) + 5"
   ]
  },
  {
   "cell_type": "code",
   "execution_count": 26,
   "id": "3081daf8-1857-46bd-8cc2-af6884eb1058",
   "metadata": {},
   "outputs": [
    {
     "data": {
      "text/plain": [
       "array([0.85683859, 0.26857842, 0.85549132, 0.02163699, 0.73725976,\n",
       "       0.86304477, 0.22776539, 0.59493349, 0.62747186, 0.0414199 ])"
      ]
     },
     "execution_count": 26,
     "metadata": {},
     "output_type": "execute_result"
    }
   ],
   "source": [
    "np.random.rand(10)"
   ]
  },
  {
   "cell_type": "code",
   "execution_count": 32,
   "id": "6cb5bf71-59a7-468a-8e0b-ffeec7f6bdc9",
   "metadata": {},
   "outputs": [],
   "source": [
    "u = np.array([2, 3, 4, 5])"
   ]
  },
  {
   "cell_type": "code",
   "execution_count": 33,
   "id": "b0867b86-549e-448f-b819-f21298035d01",
   "metadata": {},
   "outputs": [],
   "source": [
    "v = np.array([1, 0, 0, 2])"
   ]
  },
  {
   "cell_type": "code",
   "execution_count": 46,
   "id": "ad16b65c-6f14-4253-9129-b1e431311179",
   "metadata": {},
   "outputs": [
    {
     "name": "stdout",
     "output_type": "stream",
     "text": [
      "12\n"
     ]
    }
   ],
   "source": [
    "def vector_vector_mult(u, v):\n",
    "    assert u.shape[0] == v.shape[0]\n",
    "\n",
    "    running_total = 0\n",
    "    n = u.shape[0]\n",
    "    i = 0\n",
    "    for i in range(n):\n",
    "        running_total += (u[i] * v[i])\n",
    "    return running_total\n",
    "\n",
    "print(vector_vector_mult(u, v))"
   ]
  },
  {
   "cell_type": "code",
   "execution_count": 56,
   "id": "df047477-e30b-4d46-84d6-cbbe631c2f28",
   "metadata": {},
   "outputs": [
    {
     "data": {
      "text/plain": [
       "4"
      ]
     },
     "execution_count": 56,
     "metadata": {},
     "output_type": "execute_result"
    }
   ],
   "source": [
    "U = np.array([\n",
    "    [2, 4, 5, 6],\n",
    "    [1, 2, 1, 2],\n",
    "    [3, 1, 2, 1]\n",
    "])\n",
    "v = np.array([1, 0.5, 2, 1])\n",
    "\n",
    "v.shape[0]"
   ]
  },
  {
   "cell_type": "code",
   "execution_count": 58,
   "id": "c28b0edc-ea5d-4753-9906-ba710562a1f6",
   "metadata": {},
   "outputs": [
    {
     "name": "stdout",
     "output_type": "stream",
     "text": [
      "[20.   6.   8.5]\n"
     ]
    }
   ],
   "source": [
    "def matrix_vector_mult(U, v):\n",
    "    assert U.shape[1] == v.shape[0]\n",
    "\n",
    "    num_rows = U.shape[0]\n",
    "    result = np.zeros(num_rows)\n",
    "    \n",
    "    for i in range(num_rows):\n",
    "        result[i] = U[i].dot(v)\n",
    "    return result\n",
    "print(matrix_vector_mult(U, v))"
   ]
  },
  {
   "cell_type": "code",
   "execution_count": 59,
   "id": "8f9dc2a5-9af2-462a-a4a1-fd57f23f294d",
   "metadata": {},
   "outputs": [
    {
     "data": {
      "text/plain": [
       "array([20. ,  6. ,  8.5])"
      ]
     },
     "execution_count": 59,
     "metadata": {},
     "output_type": "execute_result"
    }
   ],
   "source": [
    "U.dot(v)"
   ]
  },
  {
   "cell_type": "code",
   "execution_count": 60,
   "id": "44f56488-3d00-4e0c-93b8-dc2813e138b7",
   "metadata": {},
   "outputs": [],
   "source": [
    "V = np.array([\n",
    "    [1, 1, 2],\n",
    "    [0, 0.5, 1],\n",
    "    [0, 2, 1],\n",
    "    [2, 1, 0]\n",
    "])"
   ]
  },
  {
   "cell_type": "code",
   "execution_count": 65,
   "id": "79425689-82b5-4bdb-81fe-6016ceecb4cc",
   "metadata": {},
   "outputs": [
    {
     "name": "stdout",
     "output_type": "stream",
     "text": [
      "[[14.  20.  13. ]\n",
      " [ 5.   6.   5. ]\n",
      " [ 5.   8.5  9. ]]\n"
     ]
    }
   ],
   "source": [
    "def matrix_matrix_mult(U, V):\n",
    "    assert U.shape[1] == V.shape[0]\n",
    "    num_rows = U.shape[0]\n",
    "    num_cols = V.shape[1]\n",
    "    res = np.zeros((num_rows, num_cols))\n",
    "\n",
    "    for i in range(num_cols):\n",
    "        res[:, i] = U.dot(V[:, i])\n",
    "    return res\n",
    "print(matrix_matrix_mult(U, V))"
   ]
  },
  {
   "cell_type": "code",
   "execution_count": 66,
   "id": "662973e7-368d-4b35-8d2c-a93490c5a4ee",
   "metadata": {},
   "outputs": [
    {
     "data": {
      "text/plain": [
       "array([[14. , 20. , 13. ],\n",
       "       [ 5. ,  6. ,  5. ],\n",
       "       [ 5. ,  8.5,  9. ]])"
      ]
     },
     "execution_count": 66,
     "metadata": {},
     "output_type": "execute_result"
    }
   ],
   "source": [
    "U.dot(V)"
   ]
  },
  {
   "cell_type": "code",
   "execution_count": null,
   "id": "15dc3af4-ac44-4f1b-9112-b486c24dfd99",
   "metadata": {},
   "outputs": [],
   "source": []
  }
 ],
 "metadata": {
  "kernelspec": {
   "display_name": "Python 3 (ipykernel)",
   "language": "python",
   "name": "python3"
  },
  "language_info": {
   "codemirror_mode": {
    "name": "ipython",
    "version": 3
   },
   "file_extension": ".py",
   "mimetype": "text/x-python",
   "name": "python",
   "nbconvert_exporter": "python",
   "pygments_lexer": "ipython3",
   "version": "3.12.1"
  }
 },
 "nbformat": 4,
 "nbformat_minor": 5
}
